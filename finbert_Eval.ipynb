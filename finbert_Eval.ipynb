{
 "cells": [
  {
   "cell_type": "code",
   "execution_count": 12,
   "metadata": {},
   "outputs": [],
   "source": [
    "from transformers import BertTokenizer, BertForSequenceClassification\n",
    "from transformers import pipeline\n",
    "\n",
    "modelName = \"yiyanghkust/finbert-tone\"\n",
    "# modelName = \"ProsusAI/finbert\"\n",
    "\n",
    "finbert = BertForSequenceClassification.from_pretrained(modelName, num_labels=3)\n",
    "tokenizer = BertTokenizer.from_pretrained(modelName)\n",
    "\n",
    "nlp = pipeline(\"sentiment-analysis\", model=finbert, tokenizer=tokenizer, truncation=True, max_length=512)"
   ]
  },
  {
   "cell_type": "code",
   "execution_count": 13,
   "metadata": {},
   "outputs": [
    {
     "name": "stdout",
     "output_type": "stream",
     "text": [
      "('there is a shortage of capital, and we need extra financing', 'Negative')\n",
      "('growth is strong and we have plenty of liquidity', 'Positive')\n",
      "('there are doubts about our finances', 'Negative')\n",
      "('profits are flat', 'Neutral')\n"
     ]
    }
   ],
   "source": [
    "sentences = [\"there is a shortage of capital, and we need extra financing\",  \n",
    "             \"growth is strong and we have plenty of liquidity\", \n",
    "             \"there are doubts about our finances\", \n",
    "             \"profits are flat\"]\n",
    "\n",
    "results = nlp(sentences)\n",
    "results = [i['label'] for i in results]\n",
    "\n",
    "newRes = list(zip(sentences, results))\n",
    "\n",
    "for i in newRes:\n",
    "    print(i)"
   ]
  },
  {
   "cell_type": "code",
   "execution_count": 14,
   "metadata": {},
   "outputs": [
    {
     "name": "stdout",
     "output_type": "stream",
     "text": [
      "Dataset Loaded!\n",
      "         user_id                                            Comment Sentiment  \\\n",
      "0  XYNN2Y4VCF3G  I bought 2200 at the ico, at 0.50$ per coin. H...  Positive   \n",
      "1  DR6XNZMT9KRH  Harmony one , algorand , Cardano, solana , vec...  Positive   \n",
      "2  9FCQGMYD4A42  Honestly, after reading this post and many of ...  Negative   \n",
      "3  QEZAEMV2WF9D  In bear market is where money is made. I Will ...  Positive   \n",
      "4  Z7J7W3XCP4XC  Funny how people think Bitcoin's risk is compa...  Negative   \n",
      "\n",
      "                                          Reddit URL  \n",
      "0  https://www.reddit.com/r/Avax/comments/uzggar/...  \n",
      "1  https://www.reddit.com/r/CryptoCurrency/commen...  \n",
      "2  https://www.reddit.com/r/CryptoCurrency/commen...  \n",
      "3  https://www.reddit.com/r/CryptoCurrency/commen...  \n",
      "4  https://www.reddit.com/r/investing/comments/um...  \n",
      "Dataset Transformed!\n",
      "         user_id                                            Comment Sentiment  \\\n",
      "0  XYNN2Y4VCF3G  I bought 2200 at the ico, at 0.50$ per coin. H...  Positive   \n",
      "1  DR6XNZMT9KRH  Harmony one , algorand , Cardano, solana , vec...  Positive   \n",
      "2  9FCQGMYD4A42  Honestly, after reading this post and many of ...  Negative   \n",
      "3  QEZAEMV2WF9D  In bear market is where money is made. I Will ...  Positive   \n",
      "4  Z7J7W3XCP4XC  Funny how people think Bitcoin's risk is compa...  Negative   \n",
      "\n",
      "                                          Reddit URL  \\\n",
      "0  https://www.reddit.com/r/Avax/comments/uzggar/...   \n",
      "1  https://www.reddit.com/r/CryptoCurrency/commen...   \n",
      "2  https://www.reddit.com/r/CryptoCurrency/commen...   \n",
      "3  https://www.reddit.com/r/CryptoCurrency/commen...   \n",
      "4  https://www.reddit.com/r/investing/comments/um...   \n",
      "\n",
      "                                       Clean_Comment  Label  \n",
      "0  I bought 2200 at the ico, at 0.50$ per coin. H...      1  \n",
      "1  Harmony one , algorand , Cardano, solana , vec...      1  \n",
      "2  Honestly, after reading this post and many of ...      0  \n",
      "3  In bear market is where money is made. I Will ...      1  \n",
      "4  Funny how people think Bitcoin's risk is compa...      0  \n"
     ]
    }
   ],
   "source": [
    "import pandas as pd\n",
    "import re\n",
    "\n",
    "df = pd.read_csv(\"crypto_currency_sentiment_dataset.csv\")\n",
    "print(\"Dataset Loaded!\\n\", df.head())\n",
    "\n",
    "## SBert -- PCA -- XGB\n",
    "def clean_text(text):\n",
    "    text = re.sub(r\"http\\\\S+|www\\\\S+\", \"\", text)\n",
    "    text = re.sub(r\"@[A-Za-z0-9]+\", \"\", text)\n",
    "    text = re.sub(r\"\\s+\", \" \", text).strip()\n",
    "    return text\n",
    "\n",
    "df[\"Clean_Comment\"] = df[\"Comment\"].astype(str).apply(clean_text)\n",
    "\n",
    "df[\"Label\"] = df[\"Sentiment\"].map({\"Positive\": 1, \"Negative\": 0})\n",
    "\n",
    "print(\"Dataset Transformed!\\n\", df.head())"
   ]
  },
  {
   "cell_type": "code",
   "execution_count": 15,
   "metadata": {},
   "outputs": [
    {
     "name": "stdout",
     "output_type": "stream",
     "text": [
      "562\n",
      "['Positive', 'Neutral', 'Neutral', 'Neutral', 'Neutral', 'Negative', 'Neutral', 'Positive', 'Neutral', 'Positive']\n"
     ]
    }
   ],
   "source": [
    "comments = df[\"Clean_Comment\"].to_list()\n",
    "\n",
    "predicted_op = nlp(comments)\n",
    "predicted_sentiments = [i['label'] for i in predicted_op]\n",
    "\n",
    "print(len(predicted_sentiments))\n",
    "print(predicted_sentiments[:10])"
   ]
  },
  {
   "cell_type": "code",
   "execution_count": 24,
   "metadata": {},
   "outputs": [
    {
     "name": "stdout",
     "output_type": "stream",
     "text": [
      "562\n",
      "[1, 0, 0, 0, 0, 0, 0, 1, 0, 1]\n",
      "Precision: 0.7612\n",
      "Recall: 0.6491\n",
      "F1 Score: 0.6225\n"
     ]
    }
   ],
   "source": [
    "# predicted_sentiments2 = [\"Positive\" if i==\"Neutral\" else i for i in predicted_sentiments]\n",
    "predicted_sentiments2 = [\"Negative\" if i==\"Neutral\" else i for i in predicted_sentiments]\n",
    "predicted_sentiments2 = [1 if i=='Positive' else 0 for i in predicted_sentiments2]\n",
    "\n",
    "print(len(predicted_sentiments2))\n",
    "print(predicted_sentiments2[:10])\n",
    "\n",
    "all_labels = df['Label'].to_list()\n",
    "\n",
    "from sklearn.model_selection import train_test_split\n",
    "\n",
    "pred_sents1, pred_sents2, labels1, labels2 = train_test_split(predicted_sentiments2, all_labels, test_size=0.1, stratify=all_labels, random_state=42)\n",
    "\n",
    "from sklearn.metrics import accuracy_score, precision_score, recall_score, f1_score\n",
    "\n",
    "accuracy = accuracy_score(labels2, pred_sents2)\n",
    "precision = precision_score(labels2, pred_sents2, average='weighted')  # Use 'macro' or 'weighted' for multi-class\n",
    "recall = recall_score(labels2, pred_sents2, average='weighted')\n",
    "f1 = f1_score(labels2, pred_sents2, average='weighted')\n",
    "\n",
    "print(f\"Precision: {precision:.4f}\")\n",
    "print(f\"Recall: {recall:.4f}\")\n",
    "print(f\"F1 Score: {f1:.4f}\")"
   ]
  }
 ],
 "metadata": {
  "kernelspec": {
   "display_name": "chatbot_env",
   "language": "python",
   "name": "python3"
  },
  "language_info": {
   "codemirror_mode": {
    "name": "ipython",
    "version": 3
   },
   "file_extension": ".py",
   "mimetype": "text/x-python",
   "name": "python",
   "nbconvert_exporter": "python",
   "pygments_lexer": "ipython3",
   "version": "3.9.8"
  }
 },
 "nbformat": 4,
 "nbformat_minor": 2
}
