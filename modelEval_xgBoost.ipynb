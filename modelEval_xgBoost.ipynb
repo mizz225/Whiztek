{
 "cells": [
  {
   "cell_type": "code",
   "execution_count": 1,
   "metadata": {},
   "outputs": [
    {
     "name": "stderr",
     "output_type": "stream",
     "text": [
      "e:\\QCodes\\categ_env_TF_cpu\\lib\\site-packages\\tqdm\\auto.py:21: TqdmWarning: IProgress not found. Please update jupyter and ipywidgets. See https://ipywidgets.readthedocs.io/en/stable/user_install.html\n",
      "  from .autonotebook import tqdm as notebook_tqdm\n"
     ]
    }
   ],
   "source": [
    "from sentence_transformers import SentenceTransformer\n",
    "from sklearn.decomposition import PCA\n",
    "import sklearn\n",
    "from xgboost import XGBClassifier\n",
    "import joblib\n",
    "\n",
    "loaded_pca = joblib.load(\"./saved_files/pca_9298_v2.pkl\")\n",
    "\n",
    "sbert_model = SentenceTransformer('./saved_files/MiniLM_l6_v2')\n",
    "\n",
    "loaded_xgb = XGBClassifier()\n",
    "loaded_xgb.load_model(\"./saved_files/xgboost_model_9298_v2.json\")"
   ]
  },
  {
   "cell_type": "code",
   "execution_count": 2,
   "metadata": {},
   "outputs": [
    {
     "name": "stdout",
     "output_type": "stream",
     "text": [
      "Dataset Loaded!\n",
      "         user_id                                            Comment Sentiment  \\\n",
      "0  XYNN2Y4VCF3G  I bought 2200 at the ico, at 0.50$ per coin. H...  Positive   \n",
      "1  DR6XNZMT9KRH  Harmony one , algorand , Cardano, solana , vec...  Positive   \n",
      "2  9FCQGMYD4A42  Honestly, after reading this post and many of ...  Negative   \n",
      "3  QEZAEMV2WF9D  In bear market is where money is made. I Will ...  Positive   \n",
      "4  Z7J7W3XCP4XC  Funny how people think Bitcoin's risk is compa...  Negative   \n",
      "\n",
      "                                          Reddit URL  \n",
      "0  https://www.reddit.com/r/Avax/comments/uzggar/...  \n",
      "1  https://www.reddit.com/r/CryptoCurrency/commen...  \n",
      "2  https://www.reddit.com/r/CryptoCurrency/commen...  \n",
      "3  https://www.reddit.com/r/CryptoCurrency/commen...  \n",
      "4  https://www.reddit.com/r/investing/comments/um...  \n",
      "Dataset Transformed!\n",
      "         user_id                                            Comment Sentiment  \\\n",
      "0  XYNN2Y4VCF3G  I bought 2200 at the ico, at 0.50$ per coin. H...  Positive   \n",
      "1  DR6XNZMT9KRH  Harmony one , algorand , Cardano, solana , vec...  Positive   \n",
      "2  9FCQGMYD4A42  Honestly, after reading this post and many of ...  Negative   \n",
      "3  QEZAEMV2WF9D  In bear market is where money is made. I Will ...  Positive   \n",
      "4  Z7J7W3XCP4XC  Funny how people think Bitcoin's risk is compa...  Negative   \n",
      "\n",
      "                                          Reddit URL  \\\n",
      "0  https://www.reddit.com/r/Avax/comments/uzggar/...   \n",
      "1  https://www.reddit.com/r/CryptoCurrency/commen...   \n",
      "2  https://www.reddit.com/r/CryptoCurrency/commen...   \n",
      "3  https://www.reddit.com/r/CryptoCurrency/commen...   \n",
      "4  https://www.reddit.com/r/investing/comments/um...   \n",
      "\n",
      "                                       Clean_Comment  Label  \n",
      "0  I bought 2200 at the ico, at 0.50$ per coin. H...      1  \n",
      "1  Harmony one , algorand , Cardano, solana , vec...      1  \n",
      "2  Honestly, after reading this post and many of ...      0  \n",
      "3  In bear market is where money is made. I Will ...      1  \n",
      "4  Funny how people think Bitcoin's risk is compa...      0  \n"
     ]
    }
   ],
   "source": [
    "import pandas as pd\n",
    "import re\n",
    "\n",
    "df = pd.read_csv(\"crypto_currency_sentiment_dataset.csv\")\n",
    "print(\"Dataset Loaded!\\n\", df.head())\n",
    "\n",
    "## SBert -- PCA -- XGB\n",
    "def clean_text(text):\n",
    "    text = re.sub(r\"http\\\\S+|www\\\\S+\", \"\", text)\n",
    "    text = re.sub(r\"@[A-Za-z0-9]+\", \"\", text)\n",
    "    text = re.sub(r\"\\s+\", \" \", text).strip()\n",
    "    return text\n",
    "\n",
    "df[\"Clean_Comment\"] = df[\"Comment\"].astype(str).apply(clean_text)\n",
    "\n",
    "df[\"Label\"] = df[\"Sentiment\"].map({\"Positive\": 1, \"Negative\": 0})\n",
    "\n",
    "print(\"Dataset Transformed!\\n\", df.head())"
   ]
  },
  {
   "cell_type": "code",
   "execution_count": 3,
   "metadata": {},
   "outputs": [
    {
     "name": "stdout",
     "output_type": "stream",
     "text": [
      "(384,)\n",
      "(562, 32)\n",
      "(562,)\n",
      "(505, 32)\n",
      "(57, 32)\n"
     ]
    }
   ],
   "source": [
    "from sentence_transformers import SentenceTransformer\n",
    "from sklearn.model_selection import train_test_split\n",
    "import numpy as np\n",
    "\n",
    "# sbert_model = SentenceTransformer('./MiniLM_l6_v2')\n",
    "X = np.array([sbert_model.encode(text) for text in df[\"Clean_Comment\"]])\n",
    "y = df[\"Label\"].values\n",
    "\n",
    "X = loaded_pca.transform(X)\n",
    "\n",
    "X_train, X_test, y_train, y_test = train_test_split(X, y, test_size=0.1, stratify=y, random_state=42)\n",
    "\n",
    "print(sbert_model.encode(\"How are you\").shape)\n",
    "\n",
    "print(X.shape)\n",
    "print(y.shape)\n",
    "\n",
    "print(X_train.shape)\n",
    "print(X_test.shape)"
   ]
  },
  {
   "cell_type": "code",
   "execution_count": 4,
   "metadata": {},
   "outputs": [
    {
     "name": "stdout",
     "output_type": "stream",
     "text": [
      "Precision: 0.9316\n",
      "Recall: 0.9298\n",
      "F1 Score: 0.9295\n"
     ]
    }
   ],
   "source": [
    "from sklearn.metrics import precision_score, recall_score, f1_score\n",
    "\n",
    "y_pred = loaded_xgb.predict(X_test)\n",
    "\n",
    "precision = precision_score(y_test, y_pred, average='weighted')\n",
    "recall = recall_score(y_test, y_pred, average='weighted')\n",
    "f1 = f1_score(y_test, y_pred, average='weighted')\n",
    "\n",
    "print(f\"Precision: {precision:.4f}\")\n",
    "print(f\"Recall: {recall:.4f}\")\n",
    "print(f\"F1 Score: {f1:.4f}\")"
   ]
  }
 ],
 "metadata": {
  "kernelspec": {
   "display_name": "categ_env_TF_cpu",
   "language": "python",
   "name": "python3"
  },
  "language_info": {
   "codemirror_mode": {
    "name": "ipython",
    "version": 3
   },
   "file_extension": ".py",
   "mimetype": "text/x-python",
   "name": "python",
   "nbconvert_exporter": "python",
   "pygments_lexer": "ipython3",
   "version": "3.9.8"
  }
 },
 "nbformat": 4,
 "nbformat_minor": 2
}
