{
 "cells": [
  {
   "cell_type": "code",
   "execution_count": 1,
   "metadata": {},
   "outputs": [
    {
     "name": "stderr",
     "output_type": "stream",
     "text": [
      "e:\\QCodes\\categ_env_TF_cpu\\lib\\site-packages\\tqdm\\auto.py:21: TqdmWarning: IProgress not found. Please update jupyter and ipywidgets. See https://ipywidgets.readthedocs.io/en/stable/user_install.html\n",
      "  from .autonotebook import tqdm as notebook_tqdm\n"
     ]
    },
    {
     "data": {
      "text/plain": [
       "'Negative'"
      ]
     },
     "execution_count": 1,
     "metadata": {},
     "output_type": "execute_result"
    }
   ],
   "source": [
    "import re\n",
    "from sentence_transformers import SentenceTransformer\n",
    "from xgboost import XGBClassifier\n",
    "import joblib\n",
    "import numpy as np\n",
    "\n",
    "loaded_pca = joblib.load(\"./saved_files/pca_9298_v2.pkl\")\n",
    "\n",
    "sbert_model = SentenceTransformer('./saved_files/MiniLM_l6_v2')\n",
    "\n",
    "loaded_xgb = XGBClassifier()\n",
    "loaded_xgb.load_model(\"./saved_files/xgboost_model_9298_v2.json\")\n",
    "\n",
    "def clean_text(text):\n",
    "    text = re.sub(r\"http\\\\S+|www\\\\S+\", \"\", text)\n",
    "    text = re.sub(r\"@[A-Za-z0-9]+\", \"\", text)\n",
    "    text = re.sub(r\"\\s+\", \" \", text).strip()\n",
    "    return text\n",
    "\n",
    "def predict_text_sentiment(text):\n",
    "    text = clean_text(text)\n",
    "    inp = np.array([sbert_model.encode(text)])\n",
    "    inp = loaded_pca.transform(inp)\n",
    "    y_pred = loaded_xgb.predict(inp)\n",
    "    if y_pred[0]==1:\n",
    "        return \"Positive\"\n",
    "    else:\n",
    "        return \"Negative\"\n",
    "\n",
    "# text = \"I'm actually excited because I had cash on the side for moments like this.\"\n",
    "# text = \"The exchanges were so irresponsible to list these tokens. Luna should've been allowed to die\"\n",
    "# text = \"Stay away from Doge Scam\"\n",
    "text = \"LUNA price is expected to drop\"\n",
    "predict_text_sentiment(text)\n",
    "    "
   ]
  }
 ],
 "metadata": {
  "kernelspec": {
   "display_name": "categ_env_TF_cpu",
   "language": "python",
   "name": "python3"
  },
  "language_info": {
   "codemirror_mode": {
    "name": "ipython",
    "version": 3
   },
   "file_extension": ".py",
   "mimetype": "text/x-python",
   "name": "python",
   "nbconvert_exporter": "python",
   "pygments_lexer": "ipython3",
   "version": "3.9.8"
  }
 },
 "nbformat": 4,
 "nbformat_minor": 2
}
